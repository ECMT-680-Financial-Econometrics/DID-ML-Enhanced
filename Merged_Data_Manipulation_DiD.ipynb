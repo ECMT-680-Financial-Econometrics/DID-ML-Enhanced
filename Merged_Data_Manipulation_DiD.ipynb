{
 "cells": [
  {
   "cell_type": "code",
   "execution_count": 2,
   "metadata": {},
   "outputs": [],
   "source": [
    "import pandas as pd\n",
    "\n",
    "# Use raw string with r prefix to avoid escape character issues\n",
    "df = pd.read_csv(r'D:\\desktop\\24spring\\ECMT680\\midterm2\\data\\processed_data_1989_1998.csv')\n",
    "\n",
    "# Select specific columns\n",
    "df = df[['statenum', 'year', 'avewage', 'population', 'countall', 'MW']]\n",
    "\n",
    "# Save the new CSV file, making sure the filename does not violate any naming conventions\n",
    "df.to_csv(r'D:\\desktop\\24spring\\ECMT680\\midterm2\\data\\data_89_98_merged.csv', index=False)\n",
    "\n",
    "# Use raw string with r prefix to avoid escape character issues\n",
    "df = pd.read_csv(r'D:\\desktop\\24spring\\ECMT680\\midterm2\\data\\processed_data_1999_2008.csv')\n",
    "\n",
    "# Select specific columns\n",
    "df = df[['statenum', 'year', 'avewage', 'population', 'countall', 'MW']]\n",
    "\n",
    "# Save the new CSV file, making sure the filename does not violate any naming conventions\n",
    "df.to_csv(r'D:\\desktop\\24spring\\ECMT680\\midterm2\\data\\data_99_08_merged.csv', index=False)\n"
   ]
  },
  {
   "cell_type": "code",
   "execution_count": 8,
   "metadata": {},
   "outputs": [],
   "source": [
    "# Merge 1993-2003 dataset which keeps variables we would use\n",
    "\n",
    "import pandas as pd\n",
    "\n",
    "# Load the datasets\n",
    "df_89_98 = pd.read_csv(r'D:\\desktop\\24spring\\ECMT680\\midterm2\\data\\data_89_98_merged.csv')\n",
    "df_99_08 = pd.read_csv(r'D:\\desktop\\24spring\\ECMT680\\midterm2\\data\\data_99_08_merged.csv')\n",
    "\n",
    "# Filter for the years 1993 to 2003\n",
    "df_89_98_filtered = df_89_98[(df_89_98['year'] >= 1993) & (df_89_98['year'] <= 2003)]\n",
    "df_99_08_filtered = df_99_08[(df_99_08['year'] >= 1993) & (df_99_08['year'] <= 2003)]\n",
    "\n",
    "# Merge the filtered dataframes\n",
    "merged_df = pd.concat([df_89_98_filtered, df_99_08_filtered], ignore_index=True)\n",
    "\n",
    "# Calculate the employment rate and add it as a new column\n",
    "merged_df['emp_rate'] = merged_df['countall'] / merged_df['population']\n",
    "\n",
    "# Select only the desired columns\n",
    "df_93_03 = merged_df[['statenum', 'year', 'emp_rate', 'MW']]\n",
    "\n",
    "# Save the filtered DataFrame to a new CSV file\n",
    "df_93_03.to_csv(r\"D:\\desktop\\24spring\\ECMT680\\midterm2\\data\\data_93-03.csv\", index=False)\n"
   ]
  }
 ],
 "metadata": {
  "kernelspec": {
   "display_name": "Python 3",
   "language": "python",
   "name": "python3"
  },
  "language_info": {
   "codemirror_mode": {
    "name": "ipython",
    "version": 3
   },
   "file_extension": ".py",
   "mimetype": "text/x-python",
   "name": "python",
   "nbconvert_exporter": "python",
   "pygments_lexer": "ipython3",
   "version": "3.12.2"
  }
 },
 "nbformat": 4,
 "nbformat_minor": 2
}
