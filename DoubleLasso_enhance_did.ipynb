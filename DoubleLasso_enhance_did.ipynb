{
  "nbformat": 4,
  "nbformat_minor": 0,
  "metadata": {
    "colab": {
      "provenance": []
    },
    "kernelspec": {
      "name": "python3",
      "display_name": "Python 3"
    },
    "language_info": {
      "name": "python"
    }
  },
  "cells": [
    {
      "cell_type": "code",
      "source": [],
      "metadata": {
        "id": "q3J5d-Rnc4Qy"
      },
      "execution_count": null,
      "outputs": []
    },
    {
      "cell_type": "code",
      "execution_count": null,
      "metadata": {
        "colab": {
          "base_uri": "https://localhost:8080/"
        },
        "id": "1aXQq33HaTOM",
        "outputId": "36926f94-d660-4e2f-e802-4cdf7d9337cc"
      },
      "outputs": [
        {
          "output_type": "stream",
          "name": "stderr",
          "text": [
            "/usr/local/lib/python3.10/dist-packages/openpyxl/styles/stylesheet.py:226: UserWarning: Workbook contains no default style, apply openpyxl's default\n",
            "  warn(\"Workbook contains no default style, apply openpyxl's default\")\n"
          ]
        },
        {
          "output_type": "stream",
          "name": "stdout",
          "text": [
            "Processed data with ratio in change in mw saved to final_processed_with_ratio_in_mw.csv\n"
          ]
        }
      ],
      "source": [
        "import pandas as pd\n",
        "\n",
        "# 读取Excel文件\n",
        "excel_path = '/content/StateMinimumWage_Changes.xlsx'  # Colab中的Excel文件路径\n",
        "df = pd.read_excel(excel_path)\n",
        "\n",
        "# 筛选出没有1997年数据的州\n",
        "states_without_1997 = df[~df['statename'].isin(df.loc[df['year'] == 1997, 'statename'])]['statename'].unique()\n",
        "df_filtered = df[df['statename'].isin(states_without_1997)]\n",
        "\n",
        "# 保存到CSV\n",
        "output_csv_path = 'filtered_data_from_excel.csv'  # Colab中的文件名\n",
        "df_filtered.to_csv(output_csv_path, index=False)\n",
        "\n",
        "# 补充1990到1995年的数据\n",
        "required_years = [1990, 1991, 1992, 1993, 1994, 1995, 1996]  # 包含1996\n",
        "processed_df = pd.DataFrame()\n",
        "\n",
        "for state in states_without_1997:\n",
        "    state_data = df_filtered[df_filtered['statename'] == state].copy()\n",
        "    for year in required_years:\n",
        "        if year not in state_data['year'].values:\n",
        "            new_row = {\n",
        "                'statefips': state_data.iloc[0]['statefips'] if not state_data.empty else 'NaN',\n",
        "                'statename': state,\n",
        "                'year': year,\n",
        "                'month': 1,  # 默认为1月\n",
        "                'day': 1,    # 默认为1号\n",
        "                'mw': 0,\n",
        "                'changeinmw': 0\n",
        "            }\n",
        "            state_data = pd.concat([state_data, pd.DataFrame([new_row])], ignore_index=True)\n",
        "    processed_df = pd.concat([processed_df, state_data], ignore_index=True)\n",
        "\n",
        "# 排序并删除重复行\n",
        "processed_df.sort_values(by=['statename', 'year'], inplace=True)\n",
        "processed_df.drop_duplicates(subset=['statename', 'year'], keep='first', inplace=True)\n",
        "\n",
        "# 计算changeinmw和changeinmw_ratio\n",
        "processed_df['changeinmw'] = processed_df.groupby('statename')['mw'].diff().fillna(0).clip(lower=0)\n",
        "processed_df['changeinmw_ratio'] = processed_df.groupby('statename')['changeinmw'].transform(lambda x: x / x.shift(1))\n",
        "processed_df['changeinmw_ratio'] = processed_df['changeinmw_ratio'].replace([float('inf'), -float('inf')], 0).fillna(0)\n",
        "\n",
        "# 保存到CSV\n",
        "final_output_csv_with_ratio_path = 'final_processed_with_ratio_in_mw.csv'\n",
        "processed_df.to_csv(final_output_csv_with_ratio_path, index=False)\n",
        "\n",
        "print(f\"Processed data with ratio in change in mw saved to {final_output_csv_with_ratio_path}\")\n",
        "\n",
        "import pandas as pd\n",
        "from sklearn.linear_model import LassoCV\n",
        "\n",
        "# 假设Arkansas州的数据已经按照你的要求处理好\n",
        "arkansas_template = pd.DataFrame({\n",
        "    'year': [1990, 1991, 1992, 1993, 1994, 1995],\n",
        "    'changeinmw': [0, 0, 0.35, 0.15, 0.1, 0]  # 假设值，实际值应该是你计算出来的\n",
        "})\n",
        "\n",
        "# 读取最终的州际数据集\n",
        "final_df = pd.read_csv('/mnt/data/final_processed_with_ratio_in_mw.csv')\n",
        "\n",
        "# 填充缺失年份\n",
        "filled_final_df = pd.DataFrame()\n",
        "years_to_fill = range(1990, 1996)\n",
        "for state in final_df['statename'].unique():\n",
        "    state_data = final_df[final_df['statename'] == state]\n",
        "    filled_years = state_data['year'].unique()\n",
        "    for year in years_to_fill:\n",
        "        if year not in filled_years:\n",
        "            missing_row = {\n",
        "                'statefips': state_data.iloc[0]['statefips'] if not state_data.empty else 'NaN',\n",
        "                'statename': state,\n",
        "                'year': year,\n",
        "                'changeinmw': 0  # 填充0\n",
        "            }\n",
        "            state_data = pd.concat([state_data, pd.DataFrame([missing_row])], ignore_index=True)\n",
        "    filled_final_df = pd.concat([filled_final_df, state_data], ignore_index=True)\n",
        "\n",
        "# 排序并重置索引\n",
        "filled_final_df.sort_values(by=['statename', 'year'], inplace=True)\n",
        "filled_final_df.reset_index(drop=True, inplace=True)\n",
        "\n",
        "# 进行双重Lasso回归以找到与Arkansas州最匹配的州\n",
        "# 注意：下面的代码块是伪代码，因为双重Lasso需要特定的统计库实现，我在这里提供一个概念性框架\n",
        "best_state = None\n",
        "best_score = float('-inf')\n",
        "\n",
        "for state in filled_final_df['statename'].unique():\n",
        "    if state != 'Arkansas':\n",
        "        state_data = filled_final_df[filled_final_df['statename'] == state]\n",
        "        # 确保对比的年份一致\n",
        "        state_data = state_data[state_data['year'].isin(arkansas_template['year'])]\n",
        "        X = state_data[['year', 'changeinmw']].values\n",
        "        y = arkansas_template['changeinmw'].values\n",
        "        # 使用交叉验证的Lasso回归\n",
        "        lasso = LassoCV(cv=5).fit(X, y)\n",
        "        score = lasso.score(X, y)\n",
        "        if score > best_score:\n",
        "            best_score = score\n",
        "            best_state = state\n",
        "\n",
        "print(f\"The state most similar to Arkansas based on changeinmw is: {best_state}\")\n",
        "\n"
      ]
    },
    {
      "cell_type": "code",
      "source": [],
      "metadata": {
        "id": "CFVIA5jRdfbj"
      },
      "execution_count": null,
      "outputs": []
    },
    {
      "cell_type": "code",
      "execution_count": 5,
      "metadata": {
        "colab": {
          "base_uri": "https://localhost:8080/"
        },
        "outputId": "7bf731d5-72be-4359-fcd3-868b5ff28ef5",
        "id": "hkvUcQ1wdf4D"
      },
      "outputs": [
        {
          "output_type": "stream",
          "name": "stdout",
          "text": [
            "The state most similar to Arkansas based on changeinmw is: New York\n"
          ]
        }
      ],
      "source": [
        "\n",
        "\n",
        "import pandas as pd\n",
        "from sklearn.linear_model import LassoCV\n",
        "\n",
        "# 假设Arkansas州的数据已经按照你的要求处理好\n",
        "arkansas_template = pd.DataFrame({\n",
        "    'year': [1990, 1991, 1992, 1993, 1994, 1995],\n",
        "    'changeinmw': [0, 0, 0.35, 0.15, 0.1, 0]  # 假设值，实际值应该是你计算出来的\n",
        "})\n",
        "\n",
        "# 读取最终的州际数据集\n",
        "final_df = pd.read_csv('/content/final_processed_with_ratio_in_mw.csv')\n",
        "\n",
        "# 填充缺失年份\n",
        "filled_final_df = pd.DataFrame()\n",
        "years_to_fill = range(1990, 1996)\n",
        "for state in final_df['statename'].unique():\n",
        "    state_data = final_df[final_df['statename'] == state]\n",
        "    filled_years = state_data['year'].unique()\n",
        "    for year in years_to_fill:\n",
        "        if year not in filled_years:\n",
        "            missing_row = {\n",
        "                'statefips': state_data.iloc[0]['statefips'] if not state_data.empty else 'NaN',\n",
        "                'statename': state,\n",
        "                'year': year,\n",
        "                'changeinmw': 0  # 填充0\n",
        "            }\n",
        "            state_data = pd.concat([state_data, pd.DataFrame([missing_row])], ignore_index=True)\n",
        "    filled_final_df = pd.concat([filled_final_df, state_data], ignore_index=True)\n",
        "\n",
        "# 排序并重置索引\n",
        "filled_final_df.sort_values(by=['statename', 'year'], inplace=True)\n",
        "filled_final_df.reset_index(drop=True, inplace=True)\n",
        "\n",
        "# 进行双重Lasso回归以找到与Arkansas州最匹配的州\n",
        "# 注意：下面的代码块是伪代码，因为双重Lasso需要特定的统计库实现，我在这里提供一个概念性框架\n",
        "best_state = None\n",
        "best_score = float('-inf')\n",
        "\n",
        "for state in filled_final_df['statename'].unique():\n",
        "    if state != 'Arkansas':\n",
        "        state_data = filled_final_df[filled_final_df['statename'] == state]\n",
        "        # 确保对比的年份一致\n",
        "        state_data = state_data[state_data['year'].isin(arkansas_template['year'])]\n",
        "        X = state_data[['year', 'changeinmw']].values\n",
        "        y = arkansas_template['changeinmw'].values\n",
        "        # 使用交叉验证的Lasso回归\n",
        "        lasso = LassoCV(cv=5).fit(X, y)\n",
        "        score = lasso.score(X, y)\n",
        "        if score > best_score:\n",
        "            best_score = score\n",
        "            best_state = state\n",
        "\n",
        "print(f\"The state most similar to Arkansas based on changeinmw is: {best_state}\")\n",
        "\n"
      ]
    }
  ]
}