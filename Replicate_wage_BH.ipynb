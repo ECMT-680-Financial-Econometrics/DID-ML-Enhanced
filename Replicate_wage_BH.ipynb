{
  "cells": [
    {
      "cell_type": "code",
      "execution_count": null,
      "metadata": {
        "colab": {
          "base_uri": "https://localhost:8080/"
        },
        "id": "Ol-3jwwO8Lby",
        "outputId": "68c3b3ca-4c39-4b82-cad8-2962410a7692"
      },
      "outputs": [
        {
          "name": "stdout",
          "output_type": "stream",
          "text": [
            "Requirement already satisfied: pandas in /usr/local/lib/python3.10/dist-packages (2.0.3)\n",
            "Requirement already satisfied: python-dateutil>=2.8.2 in /usr/local/lib/python3.10/dist-packages (from pandas) (2.8.2)\n",
            "Requirement already satisfied: pytz>=2020.1 in /usr/local/lib/python3.10/dist-packages (from pandas) (2023.4)\n",
            "Requirement already satisfied: tzdata>=2022.1 in /usr/local/lib/python3.10/dist-packages (from pandas) (2024.1)\n",
            "Requirement already satisfied: numpy>=1.21.0 in /usr/local/lib/python3.10/dist-packages (from pandas) (1.25.2)\n",
            "Requirement already satisfied: six>=1.5 in /usr/local/lib/python3.10/dist-packages (from python-dateutil>=2.8.2->pandas) (1.16.0)\n"
          ]
        }
      ],
      "source": [
        "pip install pandas\n"
      ]
    },
    {
      "cell_type": "code",
      "execution_count": null,
      "metadata": {
        "colab": {
          "base_uri": "https://localhost:8080/",
          "height": 507
        },
        "id": "cDDDOB2J_PCz",
        "outputId": "1f70bb0e-e72c-476b-b31f-e279f1f89c4c"
      },
      "outputs": [
        {
          "name": "stdout",
          "output_type": "stream",
          "text": [
            "        statenum  year      avewage    MW  DMW     w           Aw       %Aw  \\\n",
            "0              1  1999  1707.500554  5.15  0.0  5.15 -1702.350554  0.301610   \n",
            "1              1  1999  1707.500554  5.15  0.0  5.15 -1702.350554  0.301610   \n",
            "2              1  1999  1707.500554  5.15  0.0  5.15 -1702.350554  0.301610   \n",
            "3              1  1999  1707.500554  5.15  0.0  5.15 -1702.350554  0.301610   \n",
            "4              2  1999  1707.500554  5.65  0.0  5.65 -1701.850554  0.330893   \n",
            "...          ...   ...          ...   ...  ...   ...          ...       ...   \n",
            "381883        55  2003  4169.879400  5.15  0.0  5.15 -4164.729400  0.123505   \n",
            "381884        56  2003  3778.718500  5.15  0.0  5.15 -3773.568500  0.136290   \n",
            "381885        56  2003  3594.897700  5.15  0.0  5.15 -3589.747700  0.143259   \n",
            "381886        56  2003  3785.924800  5.15  0.0  5.15 -3780.774800  0.136030   \n",
            "381887        56  2003  4096.942400  5.15  0.0  5.15 -4091.792400  0.125704   \n",
            "\n",
            "            countall  \n",
            "0       1.323090e+06  \n",
            "1       1.378853e+06  \n",
            "2       1.184143e+06  \n",
            "3       1.261474e+06  \n",
            "4       1.793602e+05  \n",
            "...              ...  \n",
            "381883  1.810690e+06  \n",
            "381884  1.803538e+05  \n",
            "381885  1.639022e+05  \n",
            "381886  1.636536e+05  \n",
            "381887  1.793656e+05  \n",
            "\n",
            "[381888 rows x 9 columns]\n"
          ]
        },
        {
          "data": {
            "application/javascript": [
              "\n",
              "    async function download(id, filename, size) {\n",
              "      if (!google.colab.kernel.accessAllowed) {\n",
              "        return;\n",
              "      }\n",
              "      const div = document.createElement('div');\n",
              "      const label = document.createElement('label');\n",
              "      label.textContent = `Downloading \"${filename}\": `;\n",
              "      div.appendChild(label);\n",
              "      const progress = document.createElement('progress');\n",
              "      progress.max = size;\n",
              "      div.appendChild(progress);\n",
              "      document.body.appendChild(div);\n",
              "\n",
              "      const buffers = [];\n",
              "      let downloaded = 0;\n",
              "\n",
              "      const channel = await google.colab.kernel.comms.open(id);\n",
              "      // Send a message to notify the kernel that we're ready.\n",
              "      channel.send({})\n",
              "\n",
              "      for await (const message of channel.messages) {\n",
              "        // Send a message to notify the kernel that we're ready.\n",
              "        channel.send({})\n",
              "        if (message.buffers) {\n",
              "          for (const buffer of message.buffers) {\n",
              "            buffers.push(buffer);\n",
              "            downloaded += buffer.byteLength;\n",
              "            progress.value = downloaded;\n",
              "          }\n",
              "        }\n",
              "      }\n",
              "      const blob = new Blob(buffers, {type: 'application/binary'});\n",
              "      const a = document.createElement('a');\n",
              "      a.href = window.URL.createObjectURL(blob);\n",
              "      a.download = filename;\n",
              "      div.appendChild(a);\n",
              "      a.click();\n",
              "      div.remove();\n",
              "    }\n",
              "  "
            ],
            "text/plain": [
              "<IPython.core.display.Javascript object>"
            ]
          },
          "metadata": {},
          "output_type": "display_data"
        },
        {
          "data": {
            "application/javascript": [
              "download(\"download_07b05c67-4c5e-4a5d-9b85-827d92115b34\", \"output_file.csv\", 39227695)"
            ],
            "text/plain": [
              "<IPython.core.display.Javascript object>"
            ]
          },
          "metadata": {},
          "output_type": "display_data"
        }
      ],
      "source": [
        "import pandas as pd\n",
        "\n",
        "# Assuming 'sb680full.csv' is the actual path where your CSV is stored in Colab.\n",
        "# You should upload your CSV to the Colab session first.\n",
        "\n",
        "csv_file_path = '/content/sb680full.csv'\n",
        "\n",
        "# Read the data from the CSV file\n",
        "df = pd.read_csv(csv_file_path)\n",
        "\n",
        "# Fill missing values with the mean of each column\n",
        "df.fillna(df.mean(), inplace=True)\n",
        "\n",
        "# Assuming the CSV has columns 'statenum', 'year', 'avewage', 'MW', 'DMW', 'countall'\n",
        "# If 'DMW' is missing, it will already have been filled with zeros by the above step.\n",
        "\n",
        "# Calculate the new adjustment period average wage\n",
        "df['w'] = df['MW'] + df['DMW']\n",
        "\n",
        "# Calculate the change in average wage ('Aw')\n",
        "df['Aw'] = df['w'] - df['avewage']\n",
        "\n",
        "# Calculate the percentage change in average wage (%Δw)\n",
        "df['%Aw'] = 100-abs((df['Aw'] / df['avewage']) * 100)\n",
        "\n",
        "# Save the results to a new CSV file\n",
        "output_csv_file_path = 'output_file.csv'\n",
        "df.to_csv(output_csv_file_path, index=False)\n",
        "\n",
        "# Print the DataFrame with the new columns to check\n",
        "print(df[['statenum', 'year', 'avewage', 'MW', 'DMW', 'w', 'Aw', '%Aw', 'countall']])\n",
        "\n",
        "# If you are running this in Google Colab, use the following lines to download the file to your local machine\n",
        "# If you're not using Google Colab, you'll need to remove these lines.\n",
        "from google.colab import files\n",
        "files.download(output_csv_file_path)\n",
        "\n",
        "\n"
      ]
    }
  ],
  "metadata": {
    "colab": {
      "provenance": []
    },
    "kernelspec": {
      "display_name": "Python 3",
      "name": "python3"
    },
    "language_info": {
      "name": "python"
    }
  },
  "nbformat": 4,
  "nbformat_minor": 0
}